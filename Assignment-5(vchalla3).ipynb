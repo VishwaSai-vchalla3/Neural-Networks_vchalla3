{
 "cells": [
  {
   "cell_type": "code",
   "execution_count": 1,
   "id": "28f81b77",
   "metadata": {},
   "outputs": [],
   "source": [
    "import tensorflow as tf\n",
    "from tensorflow.keras.applications import MobileNetV2\n",
    "import matplotlib.pyplot as plt\n",
    "import numpy as np\n",
    "from keras.callbacks import TensorBoard\n",
    "import time"
   ]
  },
  {
   "cell_type": "code",
   "execution_count": 2,
   "id": "024857b0",
   "metadata": {},
   "outputs": [],
   "source": [
    "#Added to avoid Kernel crash.\n",
    "import os\n",
    "os.environ['KMP_DUPLICATE_LIB_OK']='True'"
   ]
  },
  {
   "cell_type": "code",
   "execution_count": 3,
   "id": "9f7dbfb9",
   "metadata": {},
   "outputs": [],
   "source": [
    "\n",
    "# Load the pre-trained MobileNetV2 model, excluding the top classification layer.\n",
    "base_model = MobileNetV2(input_shape=(96, 96, 3), include_top=False, weights='imagenet')"
   ]
  },
  {
   "cell_type": "code",
   "execution_count": 4,
   "id": "cd202544",
   "metadata": {},
   "outputs": [],
   "source": [
    "# Freeze the base model\n",
    "base_model.trainable = False"
   ]
  },
  {
   "cell_type": "code",
   "execution_count": 5,
   "id": "9f511f9a",
   "metadata": {},
   "outputs": [],
   "source": [
    "from tensorflow.keras.models import Model \n",
    "from tensorflow.keras.layers import Input, GlobalAveragePooling2D, Dense"
   ]
  },
  {
   "cell_type": "code",
   "execution_count": 6,
   "id": "5a7c9a49",
   "metadata": {},
   "outputs": [],
   "source": [
    "# Create new model on top\n",
    "inputs = Input(shape=(96, 96, 3))\n",
    "x = base_model(inputs)\n",
    "x = GlobalAveragePooling2D()(x)\n",
    "outputs = Dense(10, activation='softmax')(x)\n",
    "model = Model(inputs, outputs)"
   ]
  },
  {
   "cell_type": "code",
   "execution_count": 7,
   "id": "7eb35968",
   "metadata": {},
   "outputs": [],
   "source": [
    "# Downloading and Processing the Data.\n",
    "\n",
    "from tensorflow.keras.datasets import cifar10\n",
    "from tensorflow.keras.utils import to_categorical"
   ]
  },
  {
   "cell_type": "code",
   "execution_count": 8,
   "id": "7eaa1f03",
   "metadata": {},
   "outputs": [],
   "source": [
    "# Load CIFAR-10 data\n",
    "(train_images, train_labels), (test_images, test_labels) = cifar10.load_data()"
   ]
  },
  {
   "cell_type": "code",
   "execution_count": 9,
   "id": "5eaec140",
   "metadata": {},
   "outputs": [
    {
     "data": {
      "text/plain": [
       "(32, 32, 3)"
      ]
     },
     "execution_count": 9,
     "metadata": {},
     "output_type": "execute_result"
    }
   ],
   "source": [
    "train_images[0].shape"
   ]
  },
  {
   "cell_type": "code",
   "execution_count": 10,
   "id": "e2e22719",
   "metadata": {},
   "outputs": [],
   "source": [
    "# Normalize pixel values to be between 0 and 1\n",
    "train_images, test_images = train_images / 255.0, test_images / 255.0"
   ]
  },
  {
   "cell_type": "code",
   "execution_count": 11,
   "id": "6ac82dea",
   "metadata": {},
   "outputs": [],
   "source": [
    "# Convert labels to one-hot encoding\n",
    "train_labels = to_categorical(train_labels, 10)\n",
    "test_labels = to_categorical(test_labels, 10)"
   ]
  },
  {
   "cell_type": "code",
   "execution_count": 12,
   "id": "dd66e0ff",
   "metadata": {},
   "outputs": [],
   "source": [
    "# Resize images from 32x32 to 96x96 to fit MobileNetV2 input size requirements\n",
    "train_images_resized = tf.image.resize(train_images, (96, 96))\n",
    "test_images_resized = tf.image.resize(test_images, (96, 96))"
   ]
  },
  {
   "cell_type": "code",
   "execution_count": 13,
   "id": "be83c2e8",
   "metadata": {},
   "outputs": [],
   "source": [
    "# Compiling and Training the Model\n",
    "from tensorflow.keras.optimizers import Adam"
   ]
  },
  {
   "cell_type": "code",
   "execution_count": 14,
   "id": "fd3cb97d",
   "metadata": {},
   "outputs": [],
   "source": [
    "# Compile the model\n",
    "model.compile(optimizer=Adam(learning_rate=0.001), loss='categorical_crossentropy', metrics=['accuracy'])"
   ]
  },
  {
   "cell_type": "code",
   "execution_count": 15,
   "id": "f2887650",
   "metadata": {},
   "outputs": [
    {
     "name": "stdout",
     "output_type": "stream",
     "text": [
      "Epoch 1/5\n",
      "274/274 [==============================] - 74s 256ms/step - loss: 0.8836 - accuracy: 0.6961 - val_loss: 0.6770 - val_accuracy: 0.7647\n",
      "Epoch 2/5\n",
      "274/274 [==============================] - 70s 255ms/step - loss: 0.6273 - accuracy: 0.7841 - val_loss: 0.6219 - val_accuracy: 0.7829\n",
      "Epoch 3/5\n",
      "274/274 [==============================] - 71s 258ms/step - loss: 0.5717 - accuracy: 0.8014 - val_loss: 0.6061 - val_accuracy: 0.7877\n",
      "Epoch 4/5\n",
      "274/274 [==============================] - 77s 282ms/step - loss: 0.5392 - accuracy: 0.8134 - val_loss: 0.5995 - val_accuracy: 0.7918\n",
      "Epoch 5/5\n",
      "274/274 [==============================] - 78s 285ms/step - loss: 0.5154 - accuracy: 0.8198 - val_loss: 0.5780 - val_accuracy: 0.7994\n"
     ]
    }
   ],
   "source": [
    "# Train the model\n",
    "history = model.fit(\n",
    " train_images_resized, train_labels, \n",
    " epochs=5, \n",
    " batch_size = 128,\n",
    " validation_split=0.3,\n",
    ")"
   ]
  },
  {
   "cell_type": "code",
   "execution_count": 16,
   "id": "a33d1ba6",
   "metadata": {},
   "outputs": [
    {
     "name": "stdout",
     "output_type": "stream",
     "text": [
      "313/313 [==============================] - 19s 59ms/step - loss: 0.5722 - accuracy: 0.8006\n"
     ]
    }
   ],
   "source": [
    "# Evaluate the model\n",
    "test_acc,test_loss = model.evaluate(test_images_resized, test_labels)"
   ]
  },
  {
   "cell_type": "code",
   "execution_count": 17,
   "id": "ea8954f5",
   "metadata": {},
   "outputs": [
    {
     "name": "stdout",
     "output_type": "stream",
     "text": [
      "0.5722423791885376 0.800599992275238\n"
     ]
    }
   ],
   "source": [
    "print(test_acc,test_loss)"
   ]
  },
  {
   "cell_type": "code",
   "execution_count": 18,
   "id": "360779e1",
   "metadata": {},
   "outputs": [
    {
     "data": {
      "image/png": "[encoded data removed]",
      "text/plain": [
       "<Figure size 640x480 with 2 Axes>"
      ]
     },
     "metadata": {},
     "output_type": "display_data"
    }
   ],
   "source": [
    "#Show the plots during the training for the loss and accuracy of the training and validation data.\n",
    "\n",
    "plt.subplot(211)\n",
    "plt.title('Cross Entropy Loss')\n",
    "plt.plot(history.history['loss'], color = 'blue', label='train')\n",
    "plt.plot(history.history['val_loss'],color = 'orange', label='test')\n",
    "\n",
    "plt.subplot(212)\n",
    "plt.title('Classification Accuracy')\n",
    "plt.plot(history.history['accuracy'],color = 'blue', label='train')\n",
    "plt.plot(history.history['val_accuracy'],color = 'orange', label='test')\n",
    "\n",
    "plt.tight_layout()\n",
    "plt.show()"
   ]
  },
  {
   "cell_type": "code",
   "execution_count": 19,
   "id": "2a63364a",
   "metadata": {},
   "outputs": [
    {
     "name": "stdout",
     "output_type": "stream",
     "text": [
      "313/313 [==============================] - 20s 59ms/step\n"
     ]
    }
   ],
   "source": [
    "#What accuracy did the model achieve on the training, validation data, and test data?\n",
    "predictions = model.predict(test_images_resized)"
   ]
  },
  {
   "cell_type": "code",
   "execution_count": 20,
   "id": "51c773b1",
   "metadata": {},
   "outputs": [
    {
     "data": {
      "text/plain": [
       "((10000, 10), (10000, 10))"
      ]
     },
     "execution_count": 20,
     "metadata": {},
     "output_type": "execute_result"
    }
   ],
   "source": [
    "predictions.shape,test_labels.shape"
   ]
  },
  {
   "cell_type": "code",
   "execution_count": 21,
   "id": "72f4d9c1",
   "metadata": {},
   "outputs": [
    {
     "name": "stdout",
     "output_type": "stream",
     "text": [
      "[[805   9  38  12  10   1   4  13  38   7]\n",
      " [ 12 896   2   7   2   1   2   3  15  62]\n",
      " [ 38   1 721  46  58  29  31  13   8   2]\n",
      " [ 10   6  58 673  48 143  40  26   3   4]\n",
      " [  9   0  62  21 704  28  18  30   2   3]\n",
      " [  0   1  36  96  18 674  14  33   1   1]\n",
      " [  1   4  59  70  63  36 875   9   4   1]\n",
      " [ 12   1  15  44  85  73   9 862   3   6]\n",
      " [ 78  33   9  20  11  10   1   3 906  24]\n",
      " [ 35  49   0  11   1   5   6   8  20 890]]\n"
     ]
    }
   ],
   "source": [
    "from sklearn.metrics import confusion_matrix,classification_report\n",
    "print(confusion_matrix(np.argmax(predictions,axis=1),np.argmax(test_labels,axis=1)))"
   ]
  },
  {
   "cell_type": "code",
   "execution_count": 22,
   "id": "27b065e5",
   "metadata": {},
   "outputs": [
    {
     "name": "stdout",
     "output_type": "stream",
     "text": [
      "              precision    recall  f1-score   support\n",
      "\n",
      "           0       0.81      0.86      0.83       937\n",
      "           1       0.90      0.89      0.90      1002\n",
      "           2       0.72      0.76      0.74       947\n",
      "           3       0.67      0.67      0.67      1011\n",
      "           4       0.70      0.80      0.75       877\n",
      "           5       0.67      0.77      0.72       874\n",
      "           6       0.88      0.78      0.82      1122\n",
      "           7       0.86      0.78      0.82      1110\n",
      "           8       0.91      0.83      0.86      1095\n",
      "           9       0.89      0.87      0.88      1025\n",
      "\n",
      "    accuracy                           0.80     10000\n",
      "   macro avg       0.80      0.80      0.80     10000\n",
      "weighted avg       0.81      0.80      0.80     10000\n",
      "\n"
     ]
    }
   ],
   "source": [
    "print(classification_report(np.argmax(predictions,axis=1),np.argmax(test_labels,axis=1)))"
   ]
  },
  {
   "cell_type": "code",
   "execution_count": 23,
   "id": "74da9600",
   "metadata": {},
   "outputs": [],
   "source": [
    "model.save('CIFAR10-Dataset.h5')"
   ]
  },
  {
   "cell_type": "code",
   "execution_count": 24,
   "id": "57fa7477",
   "metadata": {},
   "outputs": [
    {
     "name": "stdout",
     "output_type": "stream",
     "text": [
      "GridSearch_Logs/32-batchsize-96-layersize-1702078945\n",
      "313/313 [==============================] - 18s 58ms/step - loss: 0.6010 - accuracy: 0.8019\n",
      "GridSearch_Logs/32-batchsize-64-layersize-1702079408\n",
      "313/313 [==============================] - 18s 57ms/step - loss: 0.5986 - accuracy: 0.7962\n",
      "GridSearch_Logs/32-batchsize-32-layersize-1702079858\n",
      "313/313 [==============================] - 18s 57ms/step - loss: 0.6031 - accuracy: 0.7965\n",
      "GridSearch_Logs/64-batchsize-96-layersize-1702080322\n",
      "313/313 [==============================] - 18s 58ms/step - loss: 0.5903 - accuracy: 0.8023\n",
      "GridSearch_Logs/64-batchsize-64-layersize-1702080736\n",
      "313/313 [==============================] - 17s 55ms/step - loss: 0.5805 - accuracy: 0.7996\n",
      "GridSearch_Logs/64-batchsize-32-layersize-1702081146\n",
      "313/313 [==============================] - 17s 56ms/step - loss: 0.5826 - accuracy: 0.7995\n",
      "GridSearch_Logs/128-batchsize-96-layersize-1702081576\n",
      "313/313 [==============================] - 19s 61ms/step - loss: 0.5956 - accuracy: 0.7992\n",
      "GridSearch_Logs/128-batchsize-64-layersize-1702081988\n",
      "313/313 [==============================] - 18s 56ms/step - loss: 0.5677 - accuracy: 0.8061\n",
      "GridSearch_Logs/128-batchsize-32-layersize-1702082386\n",
      "313/313 [==============================] - 18s 58ms/step - loss: 0.5906 - accuracy: 0.7980\n"
     ]
    }
   ],
   "source": [
    "#Task 2: Optimizing the model\n",
    "#Grid Search Optimization\n",
    "\n",
    "batch_sizes = [32,64,128]\n",
    "layer_sizes = [96,64,32]\n",
    "\n",
    "for bt_size in batch_sizes:\n",
    "    for layer_size in layer_sizes:\n",
    "        file_name = \"{}-batchsize-{}-layersize-{}\".format(bt_size,layer_size,int(time.time()))\n",
    "        log_dir = \"GridSearch_Logs/\" + file_name\n",
    "        print(log_dir)\n",
    "        tensorboard_callback = TensorBoard(log_dir=log_dir,histogram_freq=1)\n",
    "        #Define the model\n",
    "        inputs = Input(shape=(96, 96, 3))\n",
    "        x = base_model(inputs)\n",
    "        x = GlobalAveragePooling2D()(x)\n",
    "        #Added this extra layer to check the variations in the Grid Search\n",
    "        layer = Dense(layer_size,activation='ReLU')(x)\n",
    "        outputs = Dense(10, activation='softmax')(layer)\n",
    "        model = Model(inputs, outputs)\n",
    "        #Compiling the model with the necessary hyper parameters.\n",
    "        model.compile(optimizer=Adam(learning_rate=0.001), loss='categorical_crossentropy', metrics=['accuracy'])\n",
    "        #Writing the models fit data.\n",
    "        model.fit(train_images_resized, train_labels, epochs=5, batch_size = bt_size,validation_split=0.3,callbacks=[tensorboard_callback],verbose=0)\n",
    "        #Evaluate the Model\n",
    "        model.evaluate(test_images_resized, test_labels)"
   ]
  },
  {
   "cell_type": "code",
   "execution_count": 48,
   "id": "25bd9d89",
   "metadata": {},
   "outputs": [
    {
     "name": "stdout",
     "output_type": "stream",
     "text": [
      "To view the TensorBoard logs, run: tensorboard --logdir logs4/\n"
     ]
    }
   ],
   "source": [
    "# Instructions to view in TensorBoard\n",
    "print(\"To view the TensorBoard logs, run: tensorboard --logdir logs4/\")"
   ]
  },
  {
   "cell_type": "code",
   "execution_count": 55,
   "id": "f0fc83fb",
   "metadata": {},
   "outputs": [
    {
     "name": "stdout",
     "output_type": "stream",
     "text": [
      "RandomSearch_Logs/5-epochs-relu-activation-RMSprop-optimizer-1702084670\n",
      "313/313 [==============================] - 18s 58ms/step - loss: 0.6252 - accuracy: 0.7879\n",
      "RandomSearch_Logs/10-epochs-tanh-activation-RMSprop-optimizer-1702085064\n",
      "313/313 [==============================] - 19s 61ms/step - loss: 0.6204 - accuracy: 0.7979\n",
      "RandomSearch_Logs/15-epochs-relu-activation-Adam-optimizer-1702085829\n",
      "313/313 [==============================] - 17s 54ms/step - loss: 0.6603 - accuracy: 0.8031\n",
      "RandomSearch_Logs/10-epochs-tanh-activation-Adam-optimizer-1702087053\n",
      "313/313 [==============================] - 16s 51ms/step - loss: 0.6044 - accuracy: 0.8049\n",
      "RandomSearch_Logs/10-epochs-tanh-activation-RMSprop-optimizer-1702087845\n",
      "313/313 [==============================] - 19s 61ms/step - loss: 0.6276 - accuracy: 0.7976\n",
      "RandomSearch_Logs/10-epochs-relu-activation-RMSprop-optimizer-1702088624\n",
      "313/313 [==============================] - 18s 58ms/step - loss: 0.6390 - accuracy: 0.7935\n"
     ]
    }
   ],
   "source": [
    "#From the above trained data we can say that the data having the batchsize 128 and layer size 64 provided best results.\n",
    "#Random Search Optimization.\n",
    "\n",
    "epochs = [5,10,15]\n",
    "activations=['relu','tanh']\n",
    "optimizers = ['Adam','RMSprop']\n",
    "\n",
    "import random\n",
    "\n",
    "iterations = random.choice(np.arange(5,12))\n",
    "\n",
    "for _ in range(iterations):\n",
    "    \n",
    "    #Randomly selecting the epochs\n",
    "    epoch = random.choice(epochs)\n",
    "    \n",
    "    #Randomly selecting the Activations.\n",
    "    activation_fun = random.choice(activations)\n",
    "    \n",
    "    #Randomly selecting the Optimizers.\n",
    "    rand_optimizer = random.choice(optimizers)\n",
    "    \n",
    "    file_name = \"{}-epochs-{}-activation-{}-optimizer-{}\".format(epoch,activation_fun,rand_optimizer,int(time.time()))\n",
    "    log_dir = \"RandomSearch_Logs/\" + file_name\n",
    "    print(log_dir)\n",
    "    tensorboard_callback = TensorBoard(log_dir=log_dir,histogram_freq=1)\n",
    "    #Define the model\n",
    "    inputs = Input(shape=(96, 96, 3))\n",
    "    x = base_model(inputs)\n",
    "    x = GlobalAveragePooling2D()(x)\n",
    "    #Added this extra layer to check the variations in the Grid Search\n",
    "    layer = Dense(64,activation=activation_fun)(x)\n",
    "    outputs = Dense(10, activation='softmax')(layer)\n",
    "    model = Model(inputs, outputs)\n",
    "    \n",
    "    #Compiling the model with the necessary hyper parameters.\n",
    "    model.compile(optimizer=rand_optimizer, loss='categorical_crossentropy', metrics=['accuracy'])\n",
    "    \n",
    "    #Writing the models fit data.\n",
    "    model.fit(train_images_resized, train_labels, epochs=epoch, batch_size = 128,validation_split=0.3,callbacks=[tensorboard_callback],verbose=0)\n",
    "    \n",
    "    #Evaluate the Model\n",
    "    model.evaluate(test_images_resized, test_labels)"
   ]
  },
  {
   "cell_type": "code",
   "execution_count": null,
   "id": "4196b214",
   "metadata": {},
   "outputs": [],
   "source": []
  },
  {
   "cell_type": "code",
   "execution_count": null,
   "id": "57784a7f",
   "metadata": {},
   "outputs": [],
   "source": []
  },
  {
   "cell_type": "code",
   "execution_count": null,
   "id": "c0a9b4ae",
   "metadata": {},
   "outputs": [],
   "source": []
  },
  {
   "cell_type": "code",
   "execution_count": null,
   "id": "76e1633f",
   "metadata": {},
   "outputs": [],
   "source": []
  }
 ],
 "metadata": {
  "kernelspec": {
   "display_name": "Python 3 (ipykernel)",
   "language": "python",
   "name": "python3"
  },
  "language_info": {
   "codemirror_mode": {
    "name": "ipython",
    "version": 3
   },
   "file_extension": ".py",
   "mimetype": "text/x-python",
   "name": "python",
   "nbconvert_exporter": "python",
   "pygments_lexer": "ipython3",
   "version": "3.10.13"
  }
 },
 "nbformat": 4,
 "nbformat_minor": 5
}
