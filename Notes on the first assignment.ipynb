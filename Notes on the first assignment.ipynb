{
 "cells": [
  {
   "cell_type": "markdown",
   "id": "31c30d3a",
   "metadata": {},
   "source": [
    "# The Assignment"
   ]
  },
  {
   "cell_type": "code",
   "execution_count": 1,
   "id": "aad8440d",
   "metadata": {},
   "outputs": [],
   "source": [
    "# import the numpy and the matplotlib libraries\n",
    "import numpy as np\n",
    "import matplotlib.pyplot as plt\n",
    "%matplotlib inline"
   ]
  },
  {
   "cell_type": "code",
   "execution_count": 2,
   "id": "3bb6a458",
   "metadata": {},
   "outputs": [
    {
     "name": "stdout",
     "output_type": "stream",
     "text": [
      "[[1000025       5       1 ...       1       1       2]\n",
      " [1002945       5       4 ...       2       1       2]\n",
      " [1015425       3       1 ...       1       1       2]\n",
      " ...\n",
      " [ 888820       5      10 ...      10       2       4]\n",
      " [ 897471       4       8 ...       6       1       4]\n",
      " [ 897471       4       8 ...       4       1       4]]\n"
     ]
    }
   ],
   "source": [
    "# read the CSV file into the two-dimensional array \"data\"\n",
    "# using numpy's function genfromtxt\n",
    "\n",
    "data = np.genfromtxt('breast-cancer-wisconsin.data.csv',delimiter=',').astype(int)\n",
    "print(data)"
   ]
  },
  {
   "cell_type": "code",
   "execution_count": 3,
   "id": "fd1f0ac5",
   "metadata": {},
   "outputs": [
    {
     "name": "stdout",
     "output_type": "stream",
     "text": [
      "(699, 11)\n"
     ]
    }
   ],
   "source": [
    "# print the shape of the array \"data\"\n",
    "print(data.shape)"
   ]
  },
  {
   "cell_type": "code",
   "execution_count": 4,
   "id": "4a4a3dc6",
   "metadata": {},
   "outputs": [
    {
     "name": "stdout",
     "output_type": "stream",
     "text": [
      "[[1000025       5       1       1       1       2       1       3       1\n",
      "        1       2]\n",
      " [1002945       5       4       4       5       7      10       3       2\n",
      "        1       2]\n",
      " [1015425       3       1       1       1       2       2       3       1\n",
      "        1       2]\n",
      " [1016277       6       8       8       1       3       4       3       7\n",
      "        1       2]\n",
      " [1017023       4       1       1       3       2       1       3       1\n",
      "        1       2]]\n"
     ]
    }
   ],
   "source": [
    "# print the first 5 rows of the array \"data\"\n",
    "print(data[:5])"
   ]
  },
  {
   "cell_type": "code",
   "execution_count": 5,
   "id": "421960d4",
   "metadata": {},
   "outputs": [
    {
     "name": "stdout",
     "output_type": "stream",
     "text": [
      "[[ 5  1  1 ...  3  1  1]\n",
      " [ 5  4  4 ...  3  2  1]\n",
      " [ 3  1  1 ...  3  1  1]\n",
      " ...\n",
      " [ 5 10 10 ...  8 10  2]\n",
      " [ 4  8  6 ... 10  6  1]\n",
      " [ 4  8  8 ... 10  4  1]]\n"
     ]
    }
   ],
   "source": [
    "# Assign to the array \"X\" the features from the array \"data\"\n",
    "# do we need to ignore any feature (column)?\n",
    "X=data[:,1:10]\n",
    "print(X)"
   ]
  },
  {
   "cell_type": "code",
   "execution_count": 6,
   "id": "fc6d5a4e",
   "metadata": {},
   "outputs": [
    {
     "name": "stdout",
     "output_type": "stream",
     "text": [
      "[0. 0. 0. 0. 0. 1. 0. 0. 0. 0. 0. 0. 1. 0. 1. 1. 0. 0. 1. 0. 1. 1. 0. 1.\n",
      " 0. 1. 0. 0. 0. 0. 0. 0. 1. 0. 0. 0. 1. 0. 1. 1. 0. 1. 1. 1. 1. 0. 1. 0.\n",
      " 0. 1. 1. 1. 1. 1. 1. 1. 1. 1. 1. 1. 1. 0. 1. 1. 0. 1. 0. 1. 1. 0. 0. 1.\n",
      " 0. 1. 1. 0. 0. 0. 0. 0. 0. 0. 0. 0. 1. 1. 1. 1. 0. 0. 0. 0. 0. 0. 0. 0.\n",
      " 0. 0. 1. 1. 1. 1. 0. 1. 1. 1. 1. 1. 0. 1. 0. 1. 1. 1. 0. 0. 0. 1. 0. 0.\n",
      " 0. 0. 1. 1. 1. 0. 1. 0. 1. 0. 0. 0. 1. 0. 0. 0. 0. 0. 0. 0. 0. 0. 1. 0.\n",
      " 0. 0. 1. 0. 0. 1. 0. 1. 1. 0. 0. 1. 0. 0. 0. 1. 1. 0. 0. 0. 0. 0. 1. 1.\n",
      " 0. 0. 0. 0. 0. 1. 1. 1. 0. 1. 0. 1. 0. 0. 0. 1. 1. 0. 1. 1. 1. 0. 1. 1.\n",
      " 0. 0. 0. 0. 0. 0. 0. 0. 1. 1. 0. 0. 0. 1. 1. 0. 0. 0. 1. 1. 0. 1. 1. 1.\n",
      " 0. 0. 1. 0. 0. 1. 1. 1. 1. 0. 1. 1. 0. 1. 1. 1. 0. 1. 0. 0. 1. 1. 1. 1.\n",
      " 0. 0. 0. 0. 0. 0. 1. 1. 0. 0. 0. 1. 0. 1. 1. 1. 0. 0. 0. 0. 1. 1. 1. 1.\n",
      " 1. 0. 1. 1. 1. 0. 1. 0. 1. 1. 0. 0. 0. 0. 0. 1. 0. 0. 1. 1. 1. 1. 1. 0.\n",
      " 1. 1. 0. 0. 1. 1. 0. 1. 0. 0. 0. 1. 1. 0. 1. 0. 1. 1. 0. 0. 1. 0. 0. 0.\n",
      " 1. 0. 0. 0. 1. 1. 0. 0. 1. 0. 0. 1. 0. 0. 1. 0. 1. 1. 1. 0. 0. 1. 1. 0.\n",
      " 1. 0. 0. 1. 1. 0. 0. 0. 1. 0. 0. 0. 1. 1. 0. 0. 0. 1. 0. 0. 1. 1. 1. 1.\n",
      " 1. 1. 0. 0. 0. 0. 1. 1. 0. 0. 0. 0. 0. 0. 0. 0. 0. 0. 0. 0. 0. 1. 0. 0.\n",
      " 0. 0. 1. 0. 0. 0. 0. 1. 0. 0. 0. 0. 0. 0. 0. 0. 1. 0. 0. 0. 0. 0. 0. 0.\n",
      " 0. 0. 0. 0. 1. 0. 1. 0. 1. 0. 0. 0. 0. 1. 0. 0. 0. 1. 0. 1. 0. 0. 0. 0.\n",
      " 0. 0. 0. 1. 1. 0. 0. 0. 1. 0. 0. 0. 0. 0. 0. 0. 0. 1. 0. 0. 0. 1. 0. 1.\n",
      " 1. 1. 0. 0. 0. 0. 0. 0. 0. 1. 1. 1. 0. 0. 0. 0. 0. 0. 0. 0. 0. 0. 0. 1.\n",
      " 0. 0. 1. 1. 0. 0. 0. 1. 1. 1. 0. 1. 0. 1. 0. 0. 0. 0. 0. 0. 0. 0. 0. 0.\n",
      " 0. 0. 1. 0. 0. 0. 0. 0. 0. 0. 1. 1. 0. 0. 0. 1. 0. 0. 1. 1. 0. 0. 0. 0.\n",
      " 0. 0. 1. 0. 0. 0. 0. 0. 0. 0. 0. 0. 0. 0. 0. 0. 0. 0. 1. 0. 0. 1. 0. 0.\n",
      " 0. 0. 0. 0. 0. 0. 0. 0. 0. 0. 0. 0. 0. 1. 0. 0. 1. 1. 1. 1. 0. 0. 1. 0.\n",
      " 0. 0. 0. 0. 0. 1. 1. 0. 0. 0. 1. 0. 1. 0. 1. 1. 1. 0. 1. 0. 0. 0. 0. 0.\n",
      " 0. 0. 0. 1. 1. 1. 0. 0. 1. 0. 1. 1. 1. 0. 0. 0. 0. 0. 0. 0. 0. 0. 0. 0.\n",
      " 0. 0. 1. 0. 0. 0. 0. 0. 0. 1. 0. 0. 1. 0. 0. 0. 0. 0. 0. 0. 0. 0. 0. 0.\n",
      " 1. 0. 0. 0. 0. 0. 0. 0. 0. 0. 1. 0. 0. 0. 0. 0. 0. 0. 0. 0. 1. 1. 1. 0.\n",
      " 0. 0. 0. 0. 0. 0. 0. 0. 1. 1. 0. 0. 0. 0. 0. 0. 0. 0. 0. 1. 0. 0. 0. 0.\n",
      " 1. 1. 1.]\n"
     ]
    }
   ],
   "source": [
    "# Assign to the array \"y\" the labels from the array \"data\"\n",
    "# Do we need to adjust the values in \"y\"?\n",
    "y=data[:,10]/2-1\n",
    "print(y)"
   ]
  },
  {
   "cell_type": "code",
   "execution_count": 7,
   "id": "ba9cd8b9",
   "metadata": {},
   "outputs": [
    {
     "name": "stdout",
     "output_type": "stream",
     "text": [
      "X_train is: [[5 2 2 ... 2 2 1]\n",
      " [4 1 1 ... 3 1 1]\n",
      " [1 1 1 ... 2 1 1]\n",
      " ...\n",
      " [7 9 4 ... 5 3 3]\n",
      " [1 1 1 ... 2 1 1]\n",
      " [5 1 1 ... 3 3 1]]\n",
      "X_train shape is: (559, 9)\n",
      "y_train is: [0. 0. 0. 0. 1. 1. 0. 0. 0. 1. 0. 0. 0. 0. 1. 1. 0. 0. 0. 1. 0. 1. 1. 1.\n",
      " 0. 1. 1. 1. 0. 0. 0. 0. 0. 0. 1. 0. 0. 0. 0. 0. 1. 0. 0. 0. 0. 0. 1. 0.\n",
      " 1. 0. 0. 0. 1. 0. 0. 1. 0. 0. 0. 0. 0. 0. 1. 0. 1. 0. 1. 1. 1. 0. 0. 0.\n",
      " 1. 1. 1. 1. 0. 0. 0. 0. 0. 0. 1. 0. 1. 1. 0. 1. 1. 0. 0. 0. 1. 0. 0. 1.\n",
      " 0. 0. 0. 0. 0. 0. 0. 0. 0. 0. 0. 1. 0. 0. 1. 0. 0. 0. 0. 1. 0. 0. 0. 1.\n",
      " 0. 1. 0. 0. 0. 1. 1. 1. 0. 0. 1. 1. 0. 0. 0. 0. 0. 0. 0. 0. 1. 1. 1. 1.\n",
      " 1. 0. 0. 0. 0. 1. 0. 0. 0. 0. 1. 0. 1. 0. 0. 0. 0. 0. 0. 0. 1. 0. 0. 0.\n",
      " 1. 1. 0. 1. 1. 0. 0. 1. 0. 0. 0. 0. 1. 0. 0. 0. 1. 1. 0. 0. 0. 1. 0. 0.\n",
      " 1. 0. 0. 1. 0. 0. 0. 0. 1. 0. 0. 0. 0. 0. 1. 0. 1. 1. 0. 1. 0. 0. 0. 0.\n",
      " 0. 1. 0. 1. 0. 1. 0. 1. 1. 1. 0. 0. 0. 1. 1. 0. 0. 0. 0. 1. 1. 0. 0. 0.\n",
      " 1. 0. 0. 0. 0. 1. 0. 0. 1. 1. 0. 1. 0. 0. 1. 0. 0. 0. 0. 1. 1. 0. 1. 1.\n",
      " 0. 0. 0. 0. 0. 1. 0. 0. 1. 0. 0. 0. 1. 0. 1. 0. 1. 0. 0. 0. 0. 1. 1. 0.\n",
      " 0. 0. 0. 0. 1. 0. 0. 0. 0. 0. 1. 0. 0. 1. 0. 0. 0. 0. 0. 0. 0. 0. 0. 1.\n",
      " 0. 0. 0. 1. 0. 0. 1. 1. 0. 0. 0. 0. 1. 1. 0. 0. 0. 0. 1. 0. 0. 0. 1. 0.\n",
      " 0. 1. 0. 0. 0. 0. 0. 0. 0. 1. 0. 0. 0. 0. 0. 0. 1. 1. 0. 0. 0. 1. 0. 1.\n",
      " 1. 0. 0. 0. 0. 0. 0. 0. 0. 0. 1. 0. 1. 0. 1. 0. 0. 0. 0. 0. 0. 1. 1. 0.\n",
      " 1. 1. 0. 0. 0. 0. 0. 0. 0. 0. 1. 0. 0. 0. 1. 0. 0. 0. 0. 1. 1. 0. 0. 0.\n",
      " 1. 1. 1. 1. 0. 0. 0. 1. 1. 0. 1. 0. 0. 0. 0. 1. 1. 1. 0. 0. 1. 0. 1. 0.\n",
      " 0. 1. 1. 0. 0. 0. 1. 1. 1. 0. 0. 1. 0. 0. 1. 0. 1. 1. 1. 0. 0. 0. 1. 0.\n",
      " 1. 1. 1. 0. 1. 0. 0. 0. 0. 0. 1. 1. 0. 1. 0. 1. 0. 0. 0. 0. 0. 0. 0. 0.\n",
      " 0. 0. 0. 0. 1. 0. 1. 1. 0. 0. 0. 1. 0. 1. 1. 0. 1. 0. 1. 1. 0. 0. 0. 0.\n",
      " 0. 0. 1. 0. 0. 1. 0. 0. 1. 0. 0. 0. 0. 0. 0. 1. 0. 0. 0. 0. 0. 1. 1. 0.\n",
      " 1. 0. 1. 0. 0. 0. 1. 0. 1. 0. 1. 0. 0. 1. 0. 0. 1. 1. 1. 0. 0. 1. 0. 1.\n",
      " 1. 1. 1. 0. 1. 0. 0.]\n",
      "y_train shape is: (559,)\n",
      "X_test is: [[7 1 2 ... 2 1 1]\n",
      " [3 1 1 ... 1 1 1]\n",
      " [8 6 5 ... 6 1 1]\n",
      " ...\n",
      " [4 1 1 ... 2 1 1]\n",
      " [1 6 8 ... 5 7 1]\n",
      " [3 1 1 ... 3 2 1]]\n",
      "X_test shape is: (140, 9)\n",
      "y_test is: [0. 0. 1. 1. 1. 0. 1. 0. 0. 0. 0. 0. 1. 0. 0. 0. 0. 0. 0. 0. 0. 0. 1. 0.\n",
      " 1. 1. 0. 0. 0. 0. 1. 0. 0. 1. 1. 0. 1. 1. 1. 1. 0. 0. 0. 1. 0. 0. 0. 1.\n",
      " 1. 0. 0. 1. 0. 1. 0. 0. 1. 1. 0. 1. 0. 0. 0. 1. 0. 0. 1. 0. 0. 0. 0. 0.\n",
      " 0. 1. 0. 0. 1. 1. 0. 0. 0. 0. 1. 1. 1. 0. 0. 1. 1. 0. 0. 0. 0. 1. 1. 0.\n",
      " 0. 1. 0. 0. 0. 1. 0. 1. 1. 1. 0. 1. 0. 1. 0. 1. 1. 0. 1. 0. 0. 0. 1. 1.\n",
      " 0. 1. 0. 0. 0. 1. 1. 0. 0. 1. 0. 0. 1. 0. 1. 0. 1. 0. 1. 0.]\n",
      "y_test shape is: (140,)\n"
     ]
    }
   ],
   "source": [
    "# Split X (the features) and y (the labels) into traing and testing sets:\n",
    "# X_train, y_train, X_test, y_test\n",
    "from sklearn.model_selection import train_test_split\n",
    "\n",
    "X_train, X_test, y_train, y_test = train_test_split(X, y, test_size=0.2, random_state=47)\n",
    "#test sizes to be tested are 0.1(90% 10%) 0.2(80% 20%) 0.4(60% 40%)(train test) data's..\n",
    "print(\"X_train is:\",X_train)\n",
    "print(\"X_train shape is:\",X_train.shape)\n",
    "print(\"y_train is:\",y_train)\n",
    "print(\"y_train shape is:\",y_train.shape)\n",
    "print(\"X_test is:\",X_test)\n",
    "print(\"X_test shape is:\",X_test.shape)\n",
    "print(\"y_test is:\",y_test)\n",
    "print(\"y_test shape is:\",y_test.shape)"
   ]
  },
  {
   "cell_type": "code",
   "execution_count": 8,
   "id": "7d08dc84",
   "metadata": {},
   "outputs": [
    {
     "name": "stdout",
     "output_type": "stream",
     "text": [
      "[[5 4 1 ... 7 1 5]\n",
      " [2 1 1 ... 9 1 1]\n",
      " [2 1 1 ... 4 1 1]\n",
      " ...\n",
      " [2 3 2 ... 5 2 3]\n",
      " [2 1 1 ... 3 1 3]\n",
      " [1 1 1 ... 3 1 1]]\n",
      "(9, 559)\n"
     ]
    }
   ],
   "source": [
    "# The algorithm we discussed in class assumes that the features array to have the dimensions n rows by m columns\n",
    "# where n is the number of features and m is the size of the data\n",
    "# Make sure that X_train and X_test have the correct dimensions\n",
    "\n",
    "x = X_train.T  #Transposing the training data to make the dimensions adjustment..\n",
    "print(x)\n",
    "print(x.shape)"
   ]
  },
  {
   "cell_type": "code",
   "execution_count": 9,
   "id": "e2c09f33",
   "metadata": {},
   "outputs": [
    {
     "name": "stdout",
     "output_type": "stream",
     "text": [
      "[[7 3 8 ... 4 1 3]\n",
      " [1 1 6 ... 1 6 1]\n",
      " [2 1 5 ... 1 8 1]\n",
      " ...\n",
      " [2 1 6 ... 2 5 3]\n",
      " [1 1 1 ... 1 7 2]\n",
      " [1 1 1 ... 1 1 1]]\n",
      "(9, 140)\n"
     ]
    }
   ],
   "source": [
    "#Adjusting the dimensions..\n",
    "x1 = X_test.T\n",
    "print(x1)\n",
    "print(x1.shape)"
   ]
  },
  {
   "cell_type": "code",
   "execution_count": 10,
   "id": "4506ff20",
   "metadata": {},
   "outputs": [],
   "source": [
    "# Define the sigmoid function and the derivative of the sigmoid function\n",
    "\n",
    "def g(z):\n",
    "    return 1./(1+np.exp(-z))\n",
    "\n",
    "def g1_prime(z):\n",
    "    return g(z)*(1-g(z))"
   ]
  },
  {
   "cell_type": "code",
   "execution_count": 11,
   "id": "94ed28f5",
   "metadata": {},
   "outputs": [],
   "source": [
    "# Define a function to initialize the weight and bias matrices\n",
    "\n",
    "#weight and bias matrices to be intialized.\n",
    "def initializeWb(x, y, n_h, n_y):\n",
    "    n_x= x.shape[0]#features of the data\n",
    "    \n",
    "    W1 = np.random.randn(n_h,n_x)*0.1\n",
    "    b1 = np.random.randn(n_h,1)\n",
    "    W2 = np.random.randn(n_y,n_h)\n",
    "    b2 = np.random.randn(n_y,1)\n",
    "    \n",
    "    return W1,b1,W2,b2"
   ]
  },
  {
   "cell_type": "code",
   "execution_count": 12,
   "id": "b65c920a",
   "metadata": {},
   "outputs": [],
   "source": [
    "# Include the function \"nn\" that does the training of a model\n",
    "\n",
    "def nn(x, y, n_h, n_y, alpha, iterations):\n",
    "    \n",
    "    stage_1 = iterations//2; alpha2 = alpha/2.\n",
    "    stage_2 = iterations//1.75; alpha3 = alpha/4.\n",
    "    stage_3 = iterations//1.5; alpha4 = alpha/8.\n",
    "    \n",
    "    cost_list = [[],[]]\n",
    "    m=x.shape[1]     #size of the data..\n",
    "    W1,b1,W2,b2 = initializeWb(x, y, n_h, n_y)\n",
    "    for i in range(iterations):\n",
    "        #Forward propagation..(This will produce the outputs as the inputs are passed..)\n",
    "        Z1 = np.dot(W1,x) + b1\n",
    "        A1 = g(Z1)\n",
    "        \n",
    "        Z2 = np.dot(W2,A1) + b2\n",
    "        A2 = g(Z2)\n",
    "        \n",
    "        #loss function..(the diff between the o/p obtained and o/p expected.)\n",
    "        if iterations%100==0:\n",
    "            #cost = -np.sum(y*np.log(A2)+(1-y)*np.log(1-A2))\n",
    "            cost = np.sum(np.sqrt(((y-A2)**2).mean()))\n",
    "            cost_list[0].append(i)\n",
    "            cost_list[1].append(cost)\n",
    "        \n",
    "        #Backward propagation..(Weights are adjusted using the gradient mode..)\n",
    "        dZ2 = A2-y\n",
    "        dW2 = (1/m)*np.dot(dZ2,A1.T)\n",
    "        db2 = (1/m)*np.sum(dZ2)\n",
    "        \n",
    "        dZ1 = np.dot(W2.T,dZ2)*g1_prime(Z1)\n",
    "        dW1 = (1/m)*np.dot(dZ1,x.T)\n",
    "        db1 = (1/m)*np.sum(dZ1)\n",
    "        \n",
    "        W2 = W2-alpha*dW2\n",
    "        b2 = b2-alpha*db2\n",
    "        W1 = W1-alpha*dW1\n",
    "        b1 = b1-alpha*db1\n",
    "        \n",
    "        if i>stage_1:     #(Based on the number of iterations the stepsize is adjusted to obtain the accurate values.)\n",
    "            alpha = alpha2\n",
    "        elif i>stage_2:\n",
    "            alpha = alpha3\n",
    "        elif i>stage_3:\n",
    "            alpha = alpha4\n",
    "\n",
    "        \n",
    "    return W1,b1,W2,b2,cost_list"
   ]
  },
  {
   "cell_type": "code",
   "execution_count": null,
   "id": "55fd04c3",
   "metadata": {},
   "outputs": [],
   "source": [
    "# Include the function \"nn\" that does the training of a model\n",
    "\n",
    "def nn(x, y, n_h, n_y, alpha, iterations, batch_size):\n",
    "    \n",
    "    stage_1 = iterations//2; alpha2 = alpha/2.\n",
    "    stage_2 = iterations//1.75; alpha3 = alpha/4.\n",
    "    stage_3 = iterations//1.5; alpha4 = alpha/8.\n",
    "    \n",
    "    cost_list = [[],[]]\n",
    "    m=x.shape[1]     #size of the data..\n",
    "    W1,b1,W2,b2 = initializeWb(x, y, n_h, n_y)\n",
    "    for i in range(iterations):\n",
    "        for j in range(0, m, batch_size):   #Performing this for 80% of the data..\n",
    "            X_batch = x[:, j:j+batch_size]\n",
    "            y_batch = y[j:j+batch_size]\n",
    "            Z1 = np.dot(W1, X_batch) + b1\n",
    "            A1 = g(Z1)\n",
    "            Z2 = np.dot(W2, A1) + b2\n",
    "            A2 = g(Z2)\n",
    "            dZ2 = A2 - y_batch\n",
    "            dW2 = (1/m) * np.dot(dZ2, A1.T)\n",
    "            db2 = (1/m) * np.sum(dZ2)\n",
    "            dZ1 = np.dot(W2.T, dZ2) * g1_prime(Z1)\n",
    "            dW1 = (1/m) * np.dot(dZ1, X_batch.T)\n",
    "            db1 = (1/m) * np.sum(dZ1)\n",
    "            W2 = W2 - alpha * dW2\n",
    "            b2 = b2 - alpha * db2\n",
    "            W1 = W1 - alpha * dW1\n",
    "            b1 = b1 - alpha * db1\n",
    "            if i>stage_3:\n",
    "                alpha = alpha4\n",
    "            elif i>stage_2:\n",
    "                alpha = alpha3\n",
    "            elif i>stage_1:\n",
    "                alpha = alpha2\n",
    "                \n",
    "        if iterations%100==0:\n",
    "            Z1 = np.dot(W1, X_batch) + b1\n",
    "            A1 = g(Z1)\n",
    "            Z2 = np.dot(W2, A1) + b2\n",
    "            A2 = g(Z2)\n",
    "            cost = -np.sum(y_batch*np.log(A2)+(1-y_batch)*np.log(1-A2))\n",
    "            cost_list[0].append(i)\n",
    "            cost_list[1].append(cost)\n",
    "\n",
    "    return W1, b1, W2, b2, cost_list"
   ]
  },
  {
   "cell_type": "code",
   "execution_count": null,
   "id": "e4928170",
   "metadata": {},
   "outputs": [],
   "source": [
    "# Define the parameters needed for traing the model\n",
    "# Initialize your weight matrices\n",
    "# call the the \"nn\" function to train the model on the testing data\n",
    "# Testing the batch_size code\n",
    "n_h = 8;n_y = 1\n",
    "alpha = 0.05\n",
    "iterations = 1000\n",
    "batch_size = 32\n",
    "W1,b1,W2,b2,cost_list = nn(x, y_train, n_h, n_y, alpha, iterations, batch_size)\n",
    "print('W1=',W1, '\\n', 'b1=',b1, '\\n', 'W2=',W2, '\\n', 'b2=',b2)"
   ]
  },
  {
   "cell_type": "code",
   "execution_count": 13,
   "id": "7572733a",
   "metadata": {},
   "outputs": [
    {
     "name": "stdout",
     "output_type": "stream",
     "text": [
      "W1= [[ 5.37377287e-01  1.17587300e-01  2.26798914e-01  2.63528608e-01\n",
      "   2.65899728e-01  4.28000739e-01  1.26416954e-01  2.59357395e-01\n",
      "  -8.38592242e-02]\n",
      " [ 3.38227095e-01  3.02398495e-01  3.34973852e-01  2.21518727e-01\n",
      "   4.69265925e-01  2.05386924e-01  5.02471036e-01  3.44274121e-01\n",
      "   3.43180352e-01]\n",
      " [-6.70018799e-01  9.81711463e-01  1.20680608e-01 -7.15192213e-01\n",
      "  -3.32478024e-01 -6.09905970e-01 -4.17096125e-02 -6.36644225e-01\n",
      "  -5.67265264e-01]\n",
      " [ 4.75404607e-02 -5.05267453e-02  1.14310918e-01  6.59940106e-04\n",
      "   4.63256895e-02  1.05588918e-01  6.67069629e-02  1.69684438e-01\n",
      "  -8.40986778e-02]\n",
      " [-3.37581907e-01  2.58477656e-01  3.01156915e-01 -1.47190625e-01\n",
      "  -8.01699713e-03  3.14191749e-01  5.11953063e-02  6.66984153e-02\n",
      "   1.97191554e-02]\n",
      " [ 1.04462431e-01 -1.86378067e+00 -2.03759207e-01  7.21542602e-01\n",
      "   1.75328479e+00 -2.08789559e+00  2.71020157e-01 -3.71337934e-01\n",
      "  -1.06199251e+00]\n",
      " [-2.41787713e-01  5.64231124e-01 -4.85543477e-01 -1.99670961e-01\n",
      "  -3.56814215e-01  4.28136984e-01 -1.59129706e+00 -2.46993117e-01\n",
      "  -2.63105458e-01]\n",
      " [ 1.19715676e+00  1.67067851e+00  1.55842608e+00 -5.60874165e-01\n",
      "  -1.31202188e+00 -6.59525757e-01 -1.19629157e+00 -1.11384845e+00\n",
      "  -5.43167047e-01]] \n",
      " b1= [[5.48940059]\n",
      " [6.00166481]\n",
      " [7.23767675]\n",
      " [7.29162097]\n",
      " [6.46216086]\n",
      " [6.58615863]\n",
      " [7.15673186]\n",
      " [5.26399408]] \n",
      " W2= [[ 0.44050667 -0.66896753 -6.10698075  1.1508182   2.24517121 -6.58718542\n",
      "  -6.1632852   4.94631386]] \n",
      " b2= [[0.81429484]]\n"
     ]
    }
   ],
   "source": [
    "# Define the parameters needed for traing the model\n",
    "# Initialize your weight matrices\n",
    "# call the the \"nn\" function to train the model on the testing data\n",
    "#5,8,10\n",
    "n_h = 8;n_y = 1\n",
    "alpha = 0.05\n",
    "iterations = 50000\n",
    "W1,b1,W2,b2,cost_list = nn(x, y_train, n_h, n_y, alpha, iterations)\n",
    "print('W1=',W1, '\\n', 'b1=',b1, '\\n', 'W2=',W2, '\\n', 'b2=',b2)"
   ]
  },
  {
   "cell_type": "code",
   "execution_count": 14,
   "id": "2d889248",
   "metadata": {},
   "outputs": [
    {
     "data": {
      "text/plain": [
       "[<matplotlib.lines.Line2D at 0x1e00f9fb050>]"
      ]
     },
     "execution_count": 14,
     "metadata": {},
     "output_type": "execute_result"
    },
    {
     "data": {
      "image/png": "[encoded data removed]",
      "text/plain": [
       "<Figure size 640x480 with 1 Axes>"
      ]
     },
     "metadata": {},
     "output_type": "display_data"
    }
   ],
   "source": [
    "# Show a plot of the loss as a function of the number of iterations\n",
    "plt.plot(cost_list[0][1:], cost_list[1][1:], 'go')\n",
    "\n",
    "#Plotted the relationship between the number of iterations and the diff between the o/p obtained and o/p expected.\n",
    "#As the number of iterations increases the weights are adjusted such that diff between the o/p obtained and o/p expected is decreased."
   ]
  },
  {
   "cell_type": "code",
   "execution_count": 15,
   "id": "269b1633",
   "metadata": {},
   "outputs": [
    {
     "name": "stdout",
     "output_type": "stream",
     "text": [
      "[[3.92257137e-02 9.12955957e-05 9.99443204e-01 9.99675817e-01\n",
      "  9.26025302e-01 7.27160256e-03 9.59990912e-01 3.74417440e-05\n",
      "  2.53677817e-04 9.35874213e-05 1.46025095e-04 9.35874213e-05\n",
      "  9.99549855e-01 1.43319307e-04 3.77449086e-04 9.90596469e-01\n",
      "  4.54788024e-05 2.07845411e-04 9.35874213e-05 3.77449086e-04\n",
      "  7.96901919e-04 4.54788024e-05 9.99489875e-01 3.36352772e-04\n",
      "  7.27850390e-02 9.99853355e-01 1.58444230e-04 4.57636634e-05\n",
      "  1.03941227e-04 3.59696295e-03 9.99856193e-01 4.90521380e-05\n",
      "  1.58444230e-04 9.84904361e-01 8.83160610e-01 7.10124709e-05\n",
      "  9.81658741e-01 9.75293453e-01 9.81642188e-01 9.99866800e-01\n",
      "  1.03941227e-04 1.56314813e-03 5.01014469e-05 9.99245546e-01\n",
      "  4.91069110e-04 4.94304124e-03 6.08014798e-03 1.00149228e-01\n",
      "  9.99663679e-01 2.85700185e-04 9.36616559e-05 9.90354573e-01\n",
      "  3.73697491e-05 9.99230632e-01 6.39774705e-05 3.74417440e-05\n",
      "  9.82652408e-01 9.91394636e-01 1.51557408e-04 9.99789370e-01\n",
      "  1.03941227e-04 5.11372492e-05 3.74417440e-05 9.52386902e-01\n",
      "  1.46025095e-04 2.04311800e-04 9.13793657e-02 3.40731796e-02\n",
      "  5.81645407e-05 3.74417440e-05 6.47561521e-03 9.42904202e-04\n",
      "  4.25990424e-04 9.99802963e-01 2.37318508e-04 6.39774705e-05\n",
      "  9.95470792e-01 9.99860654e-01 1.51557408e-04 1.03941227e-04\n",
      "  1.46025095e-04 3.73697491e-05 1.36250190e-01 9.99789047e-01\n",
      "  9.99795237e-01 4.54788024e-05 1.51557408e-04 9.99863918e-01\n",
      "  9.99851874e-01 2.37173975e-04 1.18659872e-04 3.73697491e-05\n",
      "  1.06999276e-04 9.99831757e-01 9.70268952e-01 3.70884166e-04\n",
      "  9.42904202e-04 9.99826092e-01 1.30007301e-04 1.85485674e-04\n",
      "  3.74417440e-05 9.88588764e-01 5.27632156e-03 8.70831954e-01\n",
      "  9.99866074e-01 9.84519857e-01 1.66568485e-03 9.99856523e-01\n",
      "  7.96901919e-04 9.80683579e-01 4.54788024e-05 9.81665341e-01\n",
      "  9.81785726e-01 6.43640050e-04 9.99866039e-01 5.66282290e-06\n",
      "  2.57900976e-05 3.74417440e-05 8.44027118e-01 9.81684214e-01\n",
      "  2.85700185e-04 9.50993503e-01 1.14754381e-04 6.96933925e-05\n",
      "  3.73697491e-05 9.82356757e-01 9.81053256e-01 1.96276476e-03\n",
      "  1.49568712e-04 9.88593731e-01 9.83826350e-05 8.43464254e-05\n",
      "  9.96362039e-01 3.99739076e-04 9.85636102e-01 9.11141821e-04\n",
      "  9.99831851e-01 1.58444230e-04 9.79733711e-01 4.45704147e-04]]\n"
     ]
    }
   ],
   "source": [
    "# Using the trained model, predict the labels for the testing data\n",
    "\n",
    "Z1 = np.dot(W1, x1) + b1\n",
    "A1 = g(Z1)\n",
    "Z2 = np.dot(W2, A1) + b2\n",
    "A2 = g(Z2)\n",
    "print(A2)\n",
    "\n",
    "#Block of code which will pass the test data to check whether the model trained is properly or not."
   ]
  },
  {
   "cell_type": "code",
   "execution_count": 16,
   "id": "138159cf",
   "metadata": {},
   "outputs": [
    {
     "name": "stdout",
     "output_type": "stream",
     "text": [
      "[0. 0. 1. 1. 1. 0. 1. 0. 0. 0. 0. 0. 1. 0. 0. 1. 0. 0. 0. 0. 0. 0. 1. 0.\n",
      " 0. 1. 0. 0. 0. 0. 1. 0. 0. 1. 1. 0. 1. 1. 1. 1. 0. 0. 0. 1. 0. 0. 0. 0.\n",
      " 1. 0. 0. 1. 0. 1. 0. 0. 1. 1. 0. 1. 0. 0. 0. 1. 0. 0. 0. 0. 0. 0. 0. 0.\n",
      " 0. 1. 0. 0. 1. 1. 0. 0. 0. 0. 0. 1. 1. 0. 0. 1. 1. 0. 0. 0. 0. 1. 1. 0.\n",
      " 0. 1. 0. 0. 0. 1. 0. 1. 1. 1. 0. 1. 0. 1. 0. 1. 1. 0. 1. 0. 0. 0. 1. 1.\n",
      " 0. 1. 0. 0. 0. 1. 1. 0. 0. 1. 0. 0. 1. 0. 1. 0. 1. 0. 1. 0.]\n",
      "(140,)\n",
      "[0. 0. 1. 1. 1. 0. 1. 0. 0. 0. 0. 0. 1. 0. 0. 0. 0. 0. 0. 0. 0. 0. 1. 0.\n",
      " 1. 1. 0. 0. 0. 0. 1. 0. 0. 1. 1. 0. 1. 1. 1. 1. 0. 0. 0. 1. 0. 0. 0. 1.\n",
      " 1. 0. 0. 1. 0. 1. 0. 0. 1. 1. 0. 1. 0. 0. 0. 1. 0. 0. 1. 0. 0. 0. 0. 0.\n",
      " 0. 1. 0. 0. 1. 1. 0. 0. 0. 0. 1. 1. 1. 0. 0. 1. 1. 0. 0. 0. 0. 1. 1. 0.\n",
      " 0. 1. 0. 0. 0. 1. 0. 1. 1. 1. 0. 1. 0. 1. 0. 1. 1. 0. 1. 0. 0. 0. 1. 1.\n",
      " 0. 1. 0. 0. 0. 1. 1. 0. 0. 1. 0. 0. 1. 0. 1. 0. 1. 0. 1. 0.]\n",
      "(140,)\n"
     ]
    }
   ],
   "source": [
    "# make sure that the array of the predicted labels has the same dimension as the testing data\n",
    "predictions = np.ravel(np.rint(A2.copy()))\n",
    "print(predictions)\n",
    "print(predictions.shape)\n",
    "print(y_test)\n",
    "print(y_test.shape)\n",
    "\n",
    "#rint function will round of the values to the nearest integer.\n",
    "#ravel function will flatten the multi dimension array to the flat array."
   ]
  },
  {
   "cell_type": "code",
   "execution_count": 17,
   "id": "3dd0a3c7",
   "metadata": {},
   "outputs": [
    {
     "name": "stdout",
     "output_type": "stream",
     "text": [
      "[[84  1]\n",
      " [ 4 51]]\n",
      "              precision    recall  f1-score   support\n",
      "\n",
      "         0.0       0.95      0.99      0.97        85\n",
      "         1.0       0.98      0.93      0.95        55\n",
      "\n",
      "    accuracy                           0.96       140\n",
      "   macro avg       0.97      0.96      0.96       140\n",
      "weighted avg       0.96      0.96      0.96       140\n",
      "\n"
     ]
    }
   ],
   "source": [
    "# Show the confusion matrix for the testing data\n",
    "from sklearn.metrics import confusion_matrix,classification_report\n",
    "print(confusion_matrix(y_test, predictions))\n",
    "print(classification_report(y_test, predictions))\n",
    "\n",
    "#confusion matrix(Gives the relationship between the output predicted and output obtained based on the passed input.)\n",
    "#classification report(Gives the detailed report for the output matrix.)"
   ]
  },
  {
   "cell_type": "markdown",
   "id": "e5eb9b19",
   "metadata": {},
   "source": [
    "# Number of Neurons in the Hidden Layer = 8"
   ]
  },
  {
   "cell_type": "raw",
   "id": "34fce58b",
   "metadata": {},
   "source": [
    "[[84  1]\n",
    " [ 6 49]]\n",
    "              precision    recall  f1-score   support\n",
    "\n",
    "         0.0       0.93      0.99      0.96        85\n",
    "         1.0       0.98      0.89      0.93        55\n",
    "\n",
    "    accuracy                           0.95       140\n",
    "   macro avg       0.96      0.94      0.95       140\n",
    "weighted avg       0.95      0.95      0.95       140"
   ]
  },
  {
   "cell_type": "markdown",
   "id": "175d3753",
   "metadata": {},
   "source": [
    "# Number of Neurons in the Hidden Layer = 5"
   ]
  },
  {
   "cell_type": "raw",
   "id": "8ff720cf",
   "metadata": {},
   "source": [
    "[[84  1]\n",
    " [ 3 52]]\n",
    "              precision    recall  f1-score   support\n",
    "\n",
    "         0.0       0.97      0.99      0.98        85\n",
    "         1.0       0.98      0.95      0.96        55\n",
    "\n",
    "    accuracy                           0.97       140\n",
    "   macro avg       0.97      0.97      0.97       140\n",
    "weighted avg       0.97      0.97      0.97       140"
   ]
  },
  {
   "cell_type": "markdown",
   "id": "246778b4",
   "metadata": {},
   "source": [
    "# Number of Neurons in the Hidden Layer = 10"
   ]
  },
  {
   "cell_type": "raw",
   "id": "a8aa542a",
   "metadata": {},
   "source": [
    "[[84  1]\n",
    " [ 5 50]]\n",
    "              precision    recall  f1-score   support\n",
    "\n",
    "         0.0       0.94      0.99      0.97        85\n",
    "         1.0       0.98      0.91      0.94        55\n",
    "\n",
    "    accuracy                           0.96       140\n",
    "   macro avg       0.96      0.95      0.95       140\n",
    "weighted avg       0.96      0.96      0.96       140"
   ]
  },
  {
   "cell_type": "markdown",
   "id": "7d92e0d7",
   "metadata": {},
   "source": [
    "# Train data=60% and Test data=40% and N.O neurons=8"
   ]
  },
  {
   "cell_type": "raw",
   "id": "a0ef7cb0",
   "metadata": {},
   "source": [
    "[[172   9]\n",
    " [  6  93]]\n",
    "              precision    recall  f1-score   support\n",
    "\n",
    "         0.0       0.97      0.95      0.96       181\n",
    "         1.0       0.91      0.94      0.93        99\n",
    "\n",
    "    accuracy                           0.95       280\n",
    "   macro avg       0.94      0.94      0.94       280\n",
    "weighted avg       0.95      0.95      0.95       280"
   ]
  },
  {
   "cell_type": "markdown",
   "id": "97a78ac8",
   "metadata": {},
   "source": [
    "# Train data=90% and Test data=10% and N.O neurons=8"
   ]
  },
  {
   "cell_type": "raw",
   "id": "78fea7c5",
   "metadata": {},
   "source": [
    "[[44  1]\n",
    " [ 3 22]]\n",
    "              precision    recall  f1-score   support\n",
    "\n",
    "         0.0       0.94      0.98      0.96        45\n",
    "         1.0       0.96      0.88      0.92        25\n",
    "\n",
    "    accuracy                           0.94        70\n",
    "   macro avg       0.95      0.93      0.94        70\n",
    "weighted avg       0.94      0.94      0.94        70"
   ]
  },
  {
   "cell_type": "markdown",
   "id": "c643311d",
   "metadata": {},
   "source": [
    "# Test with cost function as root mean square error"
   ]
  },
  {
   "cell_type": "raw",
   "id": "957a50a3",
   "metadata": {},
   "source": [
    "[[84  1]\n",
    " [ 4 51]]\n",
    "              precision    recall  f1-score   support\n",
    "\n",
    "         0.0       0.95      0.99      0.97        85\n",
    "         1.0       0.98      0.93      0.95        55\n",
    "\n",
    "    accuracy                           0.96       140\n",
    "   macro avg       0.97      0.96      0.96       140\n",
    "weighted avg       0.96      0.96      0.96       140"
   ]
  },
  {
   "cell_type": "markdown",
   "id": "fedbf0ee",
   "metadata": {},
   "source": [
    "# Test when batch_size = 32"
   ]
  },
  {
   "attachments": {},
   "cell_type": "raw",
   "id": "d99e2772",
   "metadata": {},
   "source": [
    "[[84  1]\n",
    " [ 2 53]]\n",
    "              precision    recall  f1-score   support\n",
    "\n",
    "         0.0       0.98      0.99      0.98        85\n",
    "         1.0       0.98      0.96      0.97        55\n",
    "\n",
    "    accuracy                           0.98       140\n",
    "   macro avg       0.98      0.98      0.98       140\n",
    "weighted avg       0.98      0.98      0.98       140\n",
    "\n"
   ]
  },
  {
   "cell_type": "markdown",
   "id": "19feed15",
   "metadata": {},
   "source": [
    "# Test when batch_size = 64"
   ]
  },
  {
   "cell_type": "raw",
   "id": "d52352d3",
   "metadata": {},
   "source": [
    "[[84  1]\n",
    " [ 3 52]]\n",
    "              precision    recall  f1-score   support\n",
    "\n",
    "         0.0       0.97      0.99      0.98        85\n",
    "         1.0       0.98      0.95      0.96        55\n",
    "\n",
    "    accuracy                           0.97       140\n",
    "   macro avg       0.97      0.97      0.97       140\n",
    "weighted avg       0.97      0.97      0.97       140\n"
   ]
  }
 ],
 "metadata": {
  "kernelspec": {
   "display_name": "Python 3 (ipykernel)",
   "language": "python",
   "name": "python3"
  },
  "language_info": {
   "codemirror_mode": {
    "name": "ipython",
    "version": 3
   },
   "file_extension": ".py",
   "mimetype": "text/x-python",
   "name": "python",
   "nbconvert_exporter": "python",
   "pygments_lexer": "ipython3",
   "version": "3.11.4"
  }
 },
 "nbformat": 4,
 "nbformat_minor": 5
}
